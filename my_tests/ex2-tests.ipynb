{
 "cells": [
  {
   "cell_type": "code",
   "execution_count": 118,
   "id": "25151b4e",
   "metadata": {},
   "outputs": [
    {
     "name": "stdout",
     "output_type": "stream",
     "text": [
      "The autoreload extension is already loaded. To reload it, use:\n",
      "  %reload_ext autoreload\n"
     ]
    }
   ],
   "source": [
    "import numpy as np\n",
    "import plotly.express as px\n",
    "\n",
    "import sys\n",
    "sys.path.append(\"../\")\n",
    "\n",
    "%load_ext autoreload\n",
    "%autoreload 2\n",
    "\n",
    "from IMLearn.utils.utils import split_train_test\n",
    "import IMLearn.metrics.loss_functions as our_metrics\n",
    "import IMLearn.learners.regressors.linear_regression as our_lr\n",
    "import sklearn.metrics as sklearn_metrics\n",
    "\n",
    "np.random.seed(1)"
   ]
  },
  {
   "cell_type": "code",
   "execution_count": 60,
   "id": "730cb3af",
   "metadata": {},
   "outputs": [],
   "source": [
    "# IMLearn.metrics.loss_functions\n",
    "y_true = np.random.rand(10)\n",
    "y_pred = np.random.rand(10)\n",
    "\n",
    "mse_sklearn = sklearn_metrics.mean_squared_error(y_true, y_pred)\n",
    "mse_ours = our_metrics.mean_square_error(y_true, y_pred)\n",
    "\n",
    "assert np.allclose(mse_sklearn, mse_ours), (mse_sklearn, mse_ours)\n",
    "assert isinstance(mse_ours, float) and not isinstance(mse_ours, np.float64), type(mse_ours)\n"
   ]
  },
  {
   "cell_type": "code",
   "execution_count": 116,
   "id": "43875253",
   "metadata": {},
   "outputs": [],
   "source": [
    "# IMLearn.learners.regressors.linear_regression\n",
    "n_features = 5\n",
    "n_samples = 10\n",
    "X = np.random.rand(n_samples, n_features)\n",
    "y = np.random.rand(n_samples)\n",
    "lr_with_intercept = our_lr.LinearRegression(include_intercept=True)\n",
    "lr_no_intercept = our_lr.LinearRegression(include_intercept=False)\n",
    "lr_with_intercept.fit(X, y)\n",
    "lr_no_intercept.fit(X, y)\n",
    "# test fit\n",
    "assert lr_with_intercept.coefs_.shape == (n_features + 1,), lr_with_intercept.coefs_.shape\n",
    "assert lr_no_intercept.coefs_.shape == (n_features,), lr_no_intercept.coefs_.shape\n",
    "\n",
    "# test predict\n",
    "pred_with_intercept = lr_with_intercept.predict(X)\n",
    "pred_no_intercept = lr_no_intercept.predict(X)\n",
    "\n",
    "assert pred_with_intercept.shape == (n_samples,), pred_with_intercept.shape\n",
    "assert pred_no_intercept.shape == (n_samples,), pred_no_intercept.shape\n",
    "\n",
    "loss_with_intercept = lr_with_intercept.loss(X, y)\n",
    "loss_no_intercept = lr_no_intercept.loss(X, y)\n",
    "\n",
    "assert isinstance(loss_with_intercept, float) and not isinstance(loss_with_intercept, np.float64), type(loss_with_intercept) \n",
    "assert isinstance(loss_no_intercept, float) and not isinstance(loss_no_intercept, np.float64), type(loss_no_intercept) \n",
    "assert 0 <= loss_with_intercept <= loss_no_intercept, (loss_with_intercept, loss_no_intercept)\n",
    "\n"
   ]
  },
  {
   "cell_type": "code",
   "execution_count": 147,
   "id": "38f23bc3",
   "metadata": {},
   "outputs": [],
   "source": [
    "# IMLearn.utils.utils.split_train_test\n",
    "split_ratio = 0.82\n",
    "n_features = 5\n",
    "n_samples = 10\n",
    "X = pd.DataFrame.from_records(np.random.rand(n_samples, n_features))\n",
    "y = pd.Series(np.random.rand(n_samples))\n",
    "X_train, y_train, X_test, y_test = split_train_test(X, y, split_ratio)\n",
    "\n",
    "train_size = int(n_samples * split_ratio)\n",
    "test_size = n_samples - train_size\n",
    "\n",
    "assert X_train.shape == (train_size, n_features), X_train.shape\n",
    "assert X_test.shape == (test_size, n_features), X_test.shape\n",
    "assert y_train.shape == (train_size,), y_train.shape\n",
    "assert y_test.shape == (test_size,), y_test.shape\n"
   ]
  },
  {
   "cell_type": "code",
   "execution_count": 126,
   "id": "81c068e5",
   "metadata": {},
   "outputs": [
    {
     "data": {
      "text/plain": [
       "(2,)"
      ]
     },
     "execution_count": 126,
     "metadata": {},
     "output_type": "execute_result"
    }
   ],
   "source": [
    "import pandas as pd\n",
    "df = pd.DataFrame([\n",
    "    [1,2],\n",
    "    [3,4],\n",
    "    [3,4],\n",
    "    [3,4],\n",
    "    [3,4],\n",
    "],\n",
    "columns=[\"Col1\", \"Col2\"])\n",
    "df.iloc[1].shape"
   ]
  },
  {
   "cell_type": "code",
   "execution_count": null,
   "id": "4c639c60",
   "metadata": {},
   "outputs": [],
   "source": [
    "# test fits linear regression successfully, check bias addition (coefs size)\n",
    "# *Notice: Your code should run properly also if it does not receive a response vector (y is\n",
    "# None). That is for the case of inference, where you will recieve house features without the\n",
    "# label."
   ]
  }
 ],
 "metadata": {
  "kernelspec": {
   "display_name": "Python 3 (ipykernel)",
   "language": "python",
   "name": "python3"
  },
  "language_info": {
   "codemirror_mode": {
    "name": "ipython",
    "version": 3
   },
   "file_extension": ".py",
   "mimetype": "text/x-python",
   "name": "python",
   "nbconvert_exporter": "python",
   "pygments_lexer": "ipython3",
   "version": "3.9.7"
  }
 },
 "nbformat": 4,
 "nbformat_minor": 5
}
